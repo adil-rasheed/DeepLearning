{
 "cells": [
  {
   "cell_type": "code",
   "execution_count": 44,
   "metadata": {},
   "outputs": [],
   "source": [
    "# Importing the libraries\n",
    "import numpy as np\n",
    "import matplotlib.pyplot as plt\n",
    "import pandas as pd"
   ]
  },
  {
   "cell_type": "code",
   "execution_count": 45,
   "metadata": {
    "collapsed": true
   },
   "outputs": [],
   "source": [
    "# Importing the dataset\n",
    "dataset = pd.read_csv('Churn_Modelling.csv')"
   ]
  },
  {
   "cell_type": "code",
   "execution_count": 46,
   "metadata": {},
   "outputs": [
    {
     "data": {
      "text/html": [
       "<div>\n",
       "<style>\n",
       "    .dataframe thead tr:only-child th {\n",
       "        text-align: right;\n",
       "    }\n",
       "\n",
       "    .dataframe thead th {\n",
       "        text-align: left;\n",
       "    }\n",
       "\n",
       "    .dataframe tbody tr th {\n",
       "        vertical-align: top;\n",
       "    }\n",
       "</style>\n",
       "<table border=\"1\" class=\"dataframe\">\n",
       "  <thead>\n",
       "    <tr style=\"text-align: right;\">\n",
       "      <th></th>\n",
       "      <th>RowNumber</th>\n",
       "      <th>CustomerId</th>\n",
       "      <th>Surname</th>\n",
       "      <th>CreditScore</th>\n",
       "      <th>Geography</th>\n",
       "      <th>Gender</th>\n",
       "      <th>Age</th>\n",
       "      <th>Tenure</th>\n",
       "      <th>Balance</th>\n",
       "      <th>NumOfProducts</th>\n",
       "      <th>HasCrCard</th>\n",
       "      <th>IsActiveMember</th>\n",
       "      <th>EstimatedSalary</th>\n",
       "      <th>Exited</th>\n",
       "    </tr>\n",
       "  </thead>\n",
       "  <tbody>\n",
       "    <tr>\n",
       "      <th>0</th>\n",
       "      <td>1</td>\n",
       "      <td>15634602</td>\n",
       "      <td>Hargrave</td>\n",
       "      <td>619</td>\n",
       "      <td>France</td>\n",
       "      <td>Female</td>\n",
       "      <td>42</td>\n",
       "      <td>2</td>\n",
       "      <td>0.00</td>\n",
       "      <td>1</td>\n",
       "      <td>1</td>\n",
       "      <td>1</td>\n",
       "      <td>101348.88</td>\n",
       "      <td>1</td>\n",
       "    </tr>\n",
       "    <tr>\n",
       "      <th>1</th>\n",
       "      <td>2</td>\n",
       "      <td>15647311</td>\n",
       "      <td>Hill</td>\n",
       "      <td>608</td>\n",
       "      <td>Spain</td>\n",
       "      <td>Female</td>\n",
       "      <td>41</td>\n",
       "      <td>1</td>\n",
       "      <td>83807.86</td>\n",
       "      <td>1</td>\n",
       "      <td>0</td>\n",
       "      <td>1</td>\n",
       "      <td>112542.58</td>\n",
       "      <td>0</td>\n",
       "    </tr>\n",
       "    <tr>\n",
       "      <th>2</th>\n",
       "      <td>3</td>\n",
       "      <td>15619304</td>\n",
       "      <td>Onio</td>\n",
       "      <td>502</td>\n",
       "      <td>France</td>\n",
       "      <td>Female</td>\n",
       "      <td>42</td>\n",
       "      <td>8</td>\n",
       "      <td>159660.80</td>\n",
       "      <td>3</td>\n",
       "      <td>1</td>\n",
       "      <td>0</td>\n",
       "      <td>113931.57</td>\n",
       "      <td>1</td>\n",
       "    </tr>\n",
       "    <tr>\n",
       "      <th>3</th>\n",
       "      <td>4</td>\n",
       "      <td>15701354</td>\n",
       "      <td>Boni</td>\n",
       "      <td>699</td>\n",
       "      <td>France</td>\n",
       "      <td>Female</td>\n",
       "      <td>39</td>\n",
       "      <td>1</td>\n",
       "      <td>0.00</td>\n",
       "      <td>2</td>\n",
       "      <td>0</td>\n",
       "      <td>0</td>\n",
       "      <td>93826.63</td>\n",
       "      <td>0</td>\n",
       "    </tr>\n",
       "    <tr>\n",
       "      <th>4</th>\n",
       "      <td>5</td>\n",
       "      <td>15737888</td>\n",
       "      <td>Mitchell</td>\n",
       "      <td>850</td>\n",
       "      <td>Spain</td>\n",
       "      <td>Female</td>\n",
       "      <td>43</td>\n",
       "      <td>2</td>\n",
       "      <td>125510.82</td>\n",
       "      <td>1</td>\n",
       "      <td>1</td>\n",
       "      <td>1</td>\n",
       "      <td>79084.10</td>\n",
       "      <td>0</td>\n",
       "    </tr>\n",
       "  </tbody>\n",
       "</table>\n",
       "</div>"
      ],
      "text/plain": [
       "   RowNumber  CustomerId   Surname  CreditScore Geography  Gender  Age  \\\n",
       "0          1    15634602  Hargrave          619    France  Female   42   \n",
       "1          2    15647311      Hill          608     Spain  Female   41   \n",
       "2          3    15619304      Onio          502    France  Female   42   \n",
       "3          4    15701354      Boni          699    France  Female   39   \n",
       "4          5    15737888  Mitchell          850     Spain  Female   43   \n",
       "\n",
       "   Tenure    Balance  NumOfProducts  HasCrCard  IsActiveMember  \\\n",
       "0       2       0.00              1          1               1   \n",
       "1       1   83807.86              1          0               1   \n",
       "2       8  159660.80              3          1               0   \n",
       "3       1       0.00              2          0               0   \n",
       "4       2  125510.82              1          1               1   \n",
       "\n",
       "   EstimatedSalary  Exited  \n",
       "0        101348.88       1  \n",
       "1        112542.58       0  \n",
       "2        113931.57       1  \n",
       "3         93826.63       0  \n",
       "4         79084.10       0  "
      ]
     },
     "execution_count": 46,
     "metadata": {},
     "output_type": "execute_result"
    }
   ],
   "source": [
    "#Print some sample rows for investigating the data\n",
    "dataset.head()"
   ]
  },
  {
   "cell_type": "markdown",
   "metadata": {},
   "source": [
    "Here the RowNumber, CustomerID and Surname is irrelevent for predicting whether the clinet will exit or not so we just drop these columns (0,1,2). We also split the data into feature vectors X and the target vector y.  "
   ]
  },
  {
   "cell_type": "code",
   "execution_count": 47,
   "metadata": {},
   "outputs": [
    {
     "name": "stdout",
     "output_type": "stream",
     "text": [
      "Shape of X (10000, 10)\n",
      "Shape of y (10000,)\n",
      "First rown of X  [619 'France' 'Female' 42 2 0.0 1 1 1 101348.88]\n",
      "First row of y  1\n"
     ]
    }
   ],
   "source": [
    "X = dataset.iloc[:, 3:13].values\n",
    "y = dataset.iloc[:, 13].values\n",
    "print(\"Shape of X\", X.shape)\n",
    "print(\"Shape of y\",y.shape)\n",
    "print(\"First rown of X \",X[0,:])\n",
    "print(\"First row of y \",y[0])"
   ]
  },
  {
   "cell_type": "markdown",
   "metadata": {},
   "source": [
    "We notice that the column Geography and Gender are categorical variables so we need to encode them into some integer variables. We do so using LabelEncoder fromt he sklearn.preprocessing package. "
   ]
  },
  {
   "cell_type": "code",
   "execution_count": 48,
   "metadata": {},
   "outputs": [
    {
     "name": "stdout",
     "output_type": "stream",
     "text": [
      "Shape of X (10000, 10)\n",
      "Shape of y (10000,)\n",
      "After encoding the Geography (Column 2 now) and Gender Columns (Column 3 now)\n",
      "France as 0, Germany as 1, Spain as 2\n",
      "First row of X  [619 0 0 42 2 0.0 1 1 1 101348.88]\n",
      "First row of y  1\n"
     ]
    }
   ],
   "source": [
    "# Encoding categorical data\n",
    "from sklearn.preprocessing import LabelEncoder, OneHotEncoder\n",
    "labelencoder_X_1 = LabelEncoder()\n",
    "X[:, 1] = labelencoder_X_1.fit_transform(X[:, 1])\n",
    "labelencoder_X_2 = LabelEncoder()\n",
    "X[:, 2] = labelencoder_X_2.fit_transform(X[:, 2])\n",
    "print(\"Shape of X\", X.shape)\n",
    "print(\"Shape of y\",y.shape)\n",
    "print(\"After encoding the Geography (Column 2 now) and Gender Columns (Column 3 now)\")\n",
    "print(\"France as 0, Germany as 1, Spain as 2\")\n",
    "print(\"First row of X \",X[0,:])\n",
    "print(\"First row of y \",y[0])"
   ]
  },
  {
   "cell_type": "markdown",
   "metadata": {},
   "source": [
    "We now need to do OneHotEncoding for the Geography Column 2"
   ]
  },
  {
   "cell_type": "code",
   "execution_count": 49,
   "metadata": {},
   "outputs": [
    {
     "name": "stdout",
     "output_type": "stream",
     "text": [
      "Shape of X (10000, 12)\n",
      "Shape of y (10000,)\n",
      "First row of X  [  1.00000000e+00   0.00000000e+00   0.00000000e+00   6.19000000e+02\n",
      "   0.00000000e+00   4.20000000e+01   2.00000000e+00   0.00000000e+00\n",
      "   1.00000000e+00   1.00000000e+00   1.00000000e+00   1.01348880e+05]\n",
      "First row of y  1\n"
     ]
    }
   ],
   "source": [
    "onehotencoder = OneHotEncoder(categorical_features = [1])\n",
    "X = onehotencoder.fit_transform(X).toarray()\n",
    "print(\"Shape of X\", X.shape)\n",
    "print(\"Shape of y\",y.shape)\n",
    "print(\"First row of X \",X[0,:])\n",
    "print(\"First row of y \",y[0])"
   ]
  },
  {
   "cell_type": "markdown",
   "metadata": {},
   "source": [
    "Now (1 0 0) is France, (0 1 0) is Germany and (0 0 1) is Spain. We can also exclude the first column since the last two are sufficient."
   ]
  },
  {
   "cell_type": "code",
   "execution_count": 50,
   "metadata": {},
   "outputs": [
    {
     "name": "stdout",
     "output_type": "stream",
     "text": [
      "Shape of X (10000, 11)\n",
      "Shape of y (10000,)\n",
      "First row of X  [  0.00000000e+00   0.00000000e+00   6.19000000e+02   0.00000000e+00\n",
      "   4.20000000e+01   2.00000000e+00   0.00000000e+00   1.00000000e+00\n",
      "   1.00000000e+00   1.00000000e+00   1.01348880e+05]\n",
      "First row of y  1\n"
     ]
    }
   ],
   "source": [
    "X = X[:, 1:]\n",
    "print(\"Shape of X\", X.shape)\n",
    "print(\"Shape of y\",y.shape)\n",
    "print(\"First row of X \",X[0,:])\n",
    "print(\"First row of y \",y[0])"
   ]
  },
  {
   "cell_type": "code",
   "execution_count": 51,
   "metadata": {
    "collapsed": true
   },
   "outputs": [],
   "source": [
    "# Splitting the dataset into the Training set and Test set\n",
    "from sklearn.model_selection import train_test_split\n",
    "X_train, X_test, y_train, y_test = train_test_split(X, y, test_size = 0.2, random_state = 0)"
   ]
  },
  {
   "cell_type": "code",
   "execution_count": 52,
   "metadata": {
    "collapsed": true
   },
   "outputs": [],
   "source": [
    "# Feature Scaling\n",
    "from sklearn.preprocessing import StandardScaler\n",
    "sc = StandardScaler()\n",
    "X_train = sc.fit_transform(X_train)\n",
    "X_test = sc.transform(X_test)"
   ]
  },
  {
   "cell_type": "markdown",
   "metadata": {},
   "source": [
    "Build and train the ANN"
   ]
  },
  {
   "cell_type": "code",
   "execution_count": 53,
   "metadata": {
    "scrolled": false
   },
   "outputs": [
    {
     "name": "stdout",
     "output_type": "stream",
     "text": [
      "Epoch 1/100\n",
      "8000/8000 [==============================] - 1s - loss: 0.5021 - acc: 0.7950     - ETA: 0s - loss: 0.5161 - acc: 0.79\n",
      "Epoch 2/100\n",
      "8000/8000 [==============================] - 0s - loss: 0.4307 - acc: 0.7960     \n",
      "Epoch 3/100\n",
      "8000/8000 [==============================] - 0s - loss: 0.4273 - acc: 0.7960     - ETA: 0s - loss: 0.4255 - acc: 0.79\n",
      "Epoch 4/100\n",
      "8000/8000 [==============================] - 0s - loss: 0.4238 - acc: 0.7960     - ETA: 0s - loss: 0.4214 - \n",
      "Epoch 5/100\n",
      "8000/8000 [==============================] - 0s - loss: 0.4206 - acc: 0.8026     \n",
      "Epoch 6/100\n",
      "8000/8000 [==============================] - 0s - loss: 0.4183 - acc: 0.8229     \n",
      "Epoch 7/100\n",
      "8000/8000 [==============================] - 0s - loss: 0.4162 - acc: 0.8267     \n",
      "Epoch 8/100\n",
      "8000/8000 [==============================] - 0s - loss: 0.4145 - acc: 0.8285     \n",
      "Epoch 9/100\n",
      "8000/8000 [==============================] - 0s - loss: 0.4131 - acc: 0.8302     \n",
      "Epoch 10/100\n",
      "8000/8000 [==============================] - 0s - loss: 0.4119 - acc: 0.8316     \n",
      "Epoch 11/100\n",
      "8000/8000 [==============================] - 0s - loss: 0.4109 - acc: 0.8309     \n",
      "Epoch 12/100\n",
      "8000/8000 [==============================] - 0s - loss: 0.4101 - acc: 0.8334     \n",
      "Epoch 13/100\n",
      "8000/8000 [==============================] - 0s - loss: 0.4094 - acc: 0.8334     \n",
      "Epoch 14/100\n",
      "8000/8000 [==============================] - 0s - loss: 0.4086 - acc: 0.8339     \n",
      "Epoch 15/100\n",
      "8000/8000 [==============================] - 0s - loss: 0.4082 - acc: 0.8339     \n",
      "Epoch 16/100\n",
      "8000/8000 [==============================] - 0s - loss: 0.4074 - acc: 0.8346     \n",
      "Epoch 17/100\n",
      "8000/8000 [==============================] - 0s - loss: 0.4070 - acc: 0.8344     \n",
      "Epoch 18/100\n",
      "8000/8000 [==============================] - 0s - loss: 0.4065 - acc: 0.8345     \n",
      "Epoch 19/100\n",
      "8000/8000 [==============================] - 0s - loss: 0.4062 - acc: 0.8335     \n",
      "Epoch 20/100\n",
      "8000/8000 [==============================] - 0s - loss: 0.4062 - acc: 0.8342     \n",
      "Epoch 21/100\n",
      "8000/8000 [==============================] - 0s - loss: 0.4058 - acc: 0.8332     \n",
      "Epoch 22/100\n",
      "8000/8000 [==============================] - 0s - loss: 0.4054 - acc: 0.8349     \n",
      "Epoch 23/100\n",
      "8000/8000 [==============================] - 0s - loss: 0.4056 - acc: 0.8341     \n",
      "Epoch 24/100\n",
      "8000/8000 [==============================] - 0s - loss: 0.4049 - acc: 0.8346     \n",
      "Epoch 25/100\n",
      "8000/8000 [==============================] - 0s - loss: 0.4050 - acc: 0.8347     \n",
      "Epoch 26/100\n",
      "8000/8000 [==============================] - 0s - loss: 0.4045 - acc: 0.8350     \n",
      "Epoch 27/100\n",
      "8000/8000 [==============================] - 0s - loss: 0.4042 - acc: 0.8326     \n",
      "Epoch 28/100\n",
      "8000/8000 [==============================] - 0s - loss: 0.4040 - acc: 0.8357     \n",
      "Epoch 29/100\n",
      "8000/8000 [==============================] - 0s - loss: 0.4037 - acc: 0.8355     \n",
      "Epoch 30/100\n",
      "8000/8000 [==============================] - 0s - loss: 0.4035 - acc: 0.8337     \n",
      "Epoch 31/100\n",
      "8000/8000 [==============================] - 0s - loss: 0.4031 - acc: 0.8357     \n",
      "Epoch 32/100\n",
      "8000/8000 [==============================] - 0s - loss: 0.4031 - acc: 0.8341     \n",
      "Epoch 33/100\n",
      "8000/8000 [==============================] - 0s - loss: 0.4029 - acc: 0.8357     \n",
      "Epoch 34/100\n",
      "8000/8000 [==============================] - 0s - loss: 0.4029 - acc: 0.8346     \n",
      "Epoch 35/100\n",
      "8000/8000 [==============================] - 0s - loss: 0.4021 - acc: 0.8339     \n",
      "Epoch 36/100\n",
      "8000/8000 [==============================] - 0s - loss: 0.4026 - acc: 0.8347     \n",
      "Epoch 37/100\n",
      "8000/8000 [==============================] - 0s - loss: 0.4020 - acc: 0.8351     \n",
      "Epoch 38/100\n",
      "8000/8000 [==============================] - 0s - loss: 0.4024 - acc: 0.8347     \n",
      "Epoch 39/100\n",
      "8000/8000 [==============================] - 0s - loss: 0.4015 - acc: 0.8345     \n",
      "Epoch 40/100\n",
      "8000/8000 [==============================] - 0s - loss: 0.4019 - acc: 0.8340     \n",
      "Epoch 41/100\n",
      "8000/8000 [==============================] - 0s - loss: 0.4018 - acc: 0.8346     \n",
      "Epoch 42/100\n",
      "8000/8000 [==============================] - 0s - loss: 0.4019 - acc: 0.8342     \n",
      "Epoch 43/100\n",
      "8000/8000 [==============================] - 0s - loss: 0.4017 - acc: 0.8339     \n",
      "Epoch 44/100\n",
      "8000/8000 [==============================] - 0s - loss: 0.4015 - acc: 0.8345     \n",
      "Epoch 45/100\n",
      "8000/8000 [==============================] - 0s - loss: 0.4016 - acc: 0.8355     \n",
      "Epoch 46/100\n",
      "8000/8000 [==============================] - 0s - loss: 0.4014 - acc: 0.8349     \n",
      "Epoch 47/100\n",
      "8000/8000 [==============================] - 0s - loss: 0.4013 - acc: 0.8351     \n",
      "Epoch 48/100\n",
      "8000/8000 [==============================] - 0s - loss: 0.4012 - acc: 0.8344     \n",
      "Epoch 49/100\n",
      "8000/8000 [==============================] - 0s - loss: 0.4010 - acc: 0.8334     \n",
      "Epoch 50/100\n",
      "8000/8000 [==============================] - 0s - loss: 0.4012 - acc: 0.8350     \n",
      "Epoch 51/100\n",
      "8000/8000 [==============================] - 0s - loss: 0.4013 - acc: 0.8335     \n",
      "Epoch 52/100\n",
      "8000/8000 [==============================] - 0s - loss: 0.4010 - acc: 0.8347     \n",
      "Epoch 53/100\n",
      "8000/8000 [==============================] - 0s - loss: 0.4012 - acc: 0.8342     \n",
      "Epoch 54/100\n",
      "8000/8000 [==============================] - 0s - loss: 0.4012 - acc: 0.8344     \n",
      "Epoch 55/100\n",
      "8000/8000 [==============================] - 0s - loss: 0.4006 - acc: 0.8344     \n",
      "Epoch 56/100\n",
      "8000/8000 [==============================] - 0s - loss: 0.4006 - acc: 0.8347     \n",
      "Epoch 57/100\n",
      "8000/8000 [==============================] - 0s - loss: 0.4006 - acc: 0.8335     \n",
      "Epoch 58/100\n",
      "8000/8000 [==============================] - 0s - loss: 0.4009 - acc: 0.8352     \n",
      "Epoch 59/100\n",
      "8000/8000 [==============================] - 0s - loss: 0.4007 - acc: 0.8352     \n",
      "Epoch 60/100\n",
      "8000/8000 [==============================] - 0s - loss: 0.4006 - acc: 0.8335     \n",
      "Epoch 61/100\n",
      "8000/8000 [==============================] - 0s - loss: 0.4010 - acc: 0.8352     \n",
      "Epoch 62/100\n",
      "8000/8000 [==============================] - 0s - loss: 0.3998 - acc: 0.8352     \n",
      "Epoch 63/100\n",
      "8000/8000 [==============================] - 0s - loss: 0.4003 - acc: 0.8354     \n",
      "Epoch 64/100\n",
      "8000/8000 [==============================] - 0s - loss: 0.4006 - acc: 0.8365     \n",
      "Epoch 65/100\n",
      "8000/8000 [==============================] - 0s - loss: 0.4008 - acc: 0.8360     - ETA: 0s - loss: 0.4007 - acc: 0.83\n",
      "Epoch 66/100\n",
      "8000/8000 [==============================] - 0s - loss: 0.4007 - acc: 0.8355     \n",
      "Epoch 67/100\n",
      "8000/8000 [==============================] - 0s - loss: 0.4006 - acc: 0.8354     \n",
      "Epoch 68/100\n",
      "8000/8000 [==============================] - 0s - loss: 0.4004 - acc: 0.8346     \n",
      "Epoch 69/100\n",
      "8000/8000 [==============================] - 0s - loss: 0.4009 - acc: 0.8349     - ETA: 0s - loss: 0.4028 - ac\n",
      "Epoch 70/100\n",
      "8000/8000 [==============================] - 0s - loss: 0.4006 - acc: 0.8340     - ETA: 0s - loss: 0.3965 - acc:\n",
      "Epoch 71/100\n",
      "8000/8000 [==============================] - 0s - loss: 0.4006 - acc: 0.8346     \n",
      "Epoch 72/100\n",
      "8000/8000 [==============================] - 0s - loss: 0.4001 - acc: 0.8354     \n",
      "Epoch 73/100\n",
      "8000/8000 [==============================] - 0s - loss: 0.4000 - acc: 0.8354     \n",
      "Epoch 74/100\n",
      "8000/8000 [==============================] - 0s - loss: 0.4003 - acc: 0.8350     \n",
      "Epoch 75/100\n",
      "8000/8000 [==============================] - 0s - loss: 0.4002 - acc: 0.8356     \n",
      "Epoch 76/100\n",
      "8000/8000 [==============================] - 0s - loss: 0.4002 - acc: 0.8351     \n",
      "Epoch 77/100\n",
      "8000/8000 [==============================] - 0s - loss: 0.3999 - acc: 0.8359     \n",
      "Epoch 78/100\n",
      "8000/8000 [==============================] - 0s - loss: 0.4005 - acc: 0.8351     \n",
      "Epoch 79/100\n",
      "8000/8000 [==============================] - 0s - loss: 0.4003 - acc: 0.8350     \n",
      "Epoch 80/100\n",
      "8000/8000 [==============================] - 0s - loss: 0.3999 - acc: 0.8354     \n",
      "Epoch 81/100\n",
      "8000/8000 [==============================] - 0s - loss: 0.4003 - acc: 0.8355     \n",
      "Epoch 82/100\n",
      "8000/8000 [==============================] - 0s - loss: 0.4006 - acc: 0.8344     \n",
      "Epoch 83/100\n",
      "8000/8000 [==============================] - 0s - loss: 0.4002 - acc: 0.8346     \n",
      "Epoch 84/100\n",
      "8000/8000 [==============================] - 0s - loss: 0.4001 - acc: 0.8344     \n",
      "Epoch 85/100\n"
     ]
    },
    {
     "name": "stdout",
     "output_type": "stream",
     "text": [
      "8000/8000 [==============================] - 0s - loss: 0.4002 - acc: 0.8349     \n",
      "Epoch 86/100\n",
      "8000/8000 [==============================] - 0s - loss: 0.4003 - acc: 0.8344     - ETA: 0s - loss: 0.4029 - acc: \n",
      "Epoch 87/100\n",
      "8000/8000 [==============================] - 0s - loss: 0.4002 - acc: 0.8351     \n",
      "Epoch 88/100\n",
      "8000/8000 [==============================] - 0s - loss: 0.3999 - acc: 0.8356     \n",
      "Epoch 89/100\n",
      "8000/8000 [==============================] - 0s - loss: 0.4003 - acc: 0.8354     \n",
      "Epoch 90/100\n",
      "8000/8000 [==============================] - 0s - loss: 0.3997 - acc: 0.8349     \n",
      "Epoch 91/100\n",
      "8000/8000 [==============================] - 0s - loss: 0.4001 - acc: 0.8354     \n",
      "Epoch 92/100\n",
      "8000/8000 [==============================] - 0s - loss: 0.4000 - acc: 0.8362     \n",
      "Epoch 93/100\n",
      "8000/8000 [==============================] - 0s - loss: 0.3999 - acc: 0.8376     \n",
      "Epoch 94/100\n",
      "8000/8000 [==============================] - 0s - loss: 0.3999 - acc: 0.8346     \n",
      "Epoch 95/100\n",
      "8000/8000 [==============================] - 0s - loss: 0.4002 - acc: 0.8355     \n",
      "Epoch 96/100\n",
      "8000/8000 [==============================] - 0s - loss: 0.4002 - acc: 0.8346     \n",
      "Epoch 97/100\n",
      "8000/8000 [==============================] - 0s - loss: 0.3998 - acc: 0.8346     \n",
      "Epoch 98/100\n",
      "8000/8000 [==============================] - 0s - loss: 0.3999 - acc: 0.8354     \n",
      "Epoch 99/100\n",
      "8000/8000 [==============================] - 0s - loss: 0.4000 - acc: 0.8350     \n",
      "Epoch 100/100\n",
      "8000/8000 [==============================] - 0s - loss: 0.3998 - acc: 0.8356     \n"
     ]
    },
    {
     "data": {
      "text/plain": [
       "<keras.callbacks.History at 0x2016d2b4198>"
      ]
     },
     "execution_count": 53,
     "metadata": {},
     "output_type": "execute_result"
    }
   ],
   "source": [
    "import keras\n",
    "from keras.models import Sequential\n",
    "from keras.layers import Dense\n",
    "ANN_classifier = Sequential()\n",
    "ANN_classifier.add(Dense(units = 6, kernel_initializer = 'uniform', activation = 'relu', input_dim = 11))\n",
    "ANN_classifier.add(Dense(units = 6, kernel_initializer = 'uniform', activation = 'relu'))\n",
    "ANN_classifier.add(Dense(units = 1, kernel_initializer = 'uniform', activation = 'sigmoid'))\n",
    "ANN_classifier.compile(optimizer = 'adam', loss = 'binary_crossentropy', metrics = ['accuracy'])\n",
    "\n",
    "ANN_classifier.fit(X_train, y_train, batch_size = 10, epochs = 100)"
   ]
  },
  {
   "cell_type": "code",
   "execution_count": 8,
   "metadata": {
    "collapsed": true
   },
   "outputs": [],
   "source": [
    "# Predicting the Test set results\n",
    "y_pred = ANN_classifier.predict(X_test)\n",
    "y_pred = (y_pred > 0.5)"
   ]
  },
  {
   "cell_type": "code",
   "execution_count": 42,
   "metadata": {},
   "outputs": [
    {
     "name": "stdout",
     "output_type": "stream",
     "text": [
      "The above customer leaves  [[False]]\n"
     ]
    }
   ],
   "source": [
    "# Predicting a single new observation\n",
    "\"\"\"Predict if the customer with the following informations will leave the bank:\n",
    "Geography: France\n",
    "Credit Score: 600\n",
    "Gender: Male\n",
    "Age: 40\n",
    "Tenure: 3\n",
    "Balance: 60000\n",
    "Number of Products: 2\n",
    "Has Credit Card: Yes\n",
    "Is Active Member: Yes\n",
    "Estimated Salary: 50000\"\"\"\n",
    "new_prediction = classifier.predict(sc.transform(np.array([[0.0, 0, 600, 1, 40, 3, 60000, 2, 1, 1, 50000]])))\n",
    "new_prediction = (new_prediction > 0.5)\n",
    "print(\"The above customer leaves \", new_prediction)"
   ]
  },
  {
   "cell_type": "code",
   "execution_count": 43,
   "metadata": {},
   "outputs": [
    {
     "name": "stdout",
     "output_type": "stream",
     "text": [
      "The confusion matrix is  [[1543   52]\n",
      " [ 257  148]]\n"
     ]
    }
   ],
   "source": [
    "# Making the Confusion Matrix\n",
    "from sklearn.metrics import confusion_matrix\n",
    "cm = confusion_matrix(y_test, y_pred)\n",
    "print(\"The confusion matrix is \",cm)"
   ]
  },
  {
   "cell_type": "markdown",
   "metadata": {},
   "source": [
    "Evaluating  the ANN"
   ]
  },
  {
   "cell_type": "code",
   "execution_count": null,
   "metadata": {},
   "outputs": [],
   "source": [
    "from keras.wrappers.scikit_learn import KerasClassifier\n",
    "from sklearn.model_selection import cross_val_score\n",
    "from keras.models import Sequential\n",
    "from keras.layers import Dense\n",
    "def build_classifier():\n",
    "    ANN_classifier = Sequential()\n",
    "    ANN_classifier.add(Dense(units = 6, kernel_initializer = 'uniform', activation = 'relu', input_dim = 11))\n",
    "    ANN_classifier.add(Dense(units = 6, kernel_initializer = 'uniform', activation = 'relu'))\n",
    "    ANN_classifier.add(Dense(units = 1, kernel_initializer = 'uniform', activation = 'sigmoid'))\n",
    "    ANN_classifier.compile(optimizer = 'adam', loss = 'binary_crossentropy', metrics = ['accuracy'])\n",
    "    return ANN_classifier\n",
    "ANN_classifier = KerasClassifier(build_fn = build_classifier, batch_size = 10, epochs = 100)\n",
    "accuracies = cross_val_score(estimator = ANN_classifier, X = X_train, y = y_train, cv = 10, n_jobs = -1)\n",
    "mean = accuracies.mean()\n",
    "variance = accuracies.std()"
   ]
  },
  {
   "cell_type": "code",
   "execution_count": null,
   "metadata": {
    "collapsed": true
   },
   "outputs": [],
   "source": [
    "print(\"Mean Accuracy \", mean)\n",
    "print(\"Variance \",variance)"
   ]
  },
  {
   "cell_type": "markdown",
   "metadata": {},
   "source": [
    "Improving the ANN using DropOut"
   ]
  },
  {
   "cell_type": "code",
   "execution_count": null,
   "metadata": {
    "collapsed": true
   },
   "outputs": [],
   "source": [
    "import keras\n",
    "from keras.models import Sequential\n",
    "from keras.layers import Dense\n",
    "ANN_classifier = Sequential()\n",
    "ANN_classifier.add(Dense(units = 6, kernel_initializer = 'uniform', activation = 'relu', input_dim = 11))\n",
    "ANN_classifier.add(Dropout(p=0.1))\n",
    "ANN_classifier.add(Dense(units = 6, kernel_initializer = 'uniform', activation = 'relu'))\n",
    "ANN_classifier.add(Dense(units = 1, kernel_initializer = 'uniform', activation = 'sigmoid'))\n",
    "ANN_classifier.compile(optimizer = 'adam', loss = 'binary_crossentropy', metrics = ['accuracy'])\n",
    "\n",
    "ANN_classifier.fit(X_train, y_train, batch_size = 10, epochs = 100)"
   ]
  },
  {
   "cell_type": "markdown",
   "metadata": {},
   "source": [
    "Hyperparameter tuning using Grid Search"
   ]
  },
  {
   "cell_type": "code",
   "execution_count": null,
   "metadata": {
    "collapsed": true
   },
   "outputs": [],
   "source": [
    "# Tuning the ANN\n",
    "from keras.wrappers.scikit_learn import KerasClassifier\n",
    "from sklearn.model_selection import GridSearchCV\n",
    "from keras.models import Sequential\n",
    "from keras.layers import Dense\n",
    "def build_classifier(optimizer):\n",
    "    ANN_classifier = Sequential()\n",
    "    ANN_classifier.add(Dense(units = 6, kernel_initializer = 'uniform', activation = 'relu', input_dim = 11))\n",
    "    ANN_classifier.add(Dense(units = 6, kernel_initializer = 'uniform', activation = 'relu'))\n",
    "    ANN_classifier.add(Dense(units = 1, kernel_initializer = 'uniform', activation = 'sigmoid'))\n",
    "    ANN_classifier.compile(optimizer = optimizer, loss = 'binary_crossentropy', metrics = ['accuracy'])\n",
    "    return classifier\n",
    "ANN_classifier = KerasClassifier(build_fn = build_classifier)\n",
    "parameters = {'batch_size': [25, 32],\n",
    "              'epochs': [100, 500],\n",
    "              'optimizer': ['adam', 'rmsprop']}\n",
    "grid_search = GridSearchCV(estimator = ANN_classifier,\n",
    "                           param_grid = parameters,\n",
    "                           scoring = 'accuracy',\n",
    "                           cv = 10)\n",
    "grid_search = grid_search.fit(X_train, y_train)\n",
    "best_parameters = grid_search.best_params_\n",
    "best_accuracy = grid_search.best_score_"
   ]
  },
  {
   "cell_type": "code",
   "execution_count": null,
   "metadata": {
    "collapsed": true
   },
   "outputs": [],
   "source": [
    "print(\"Best parameters \",best_parameters)\n",
    "print(\"Best accuracy \",best_accuracy)"
   ]
  }
 ],
 "metadata": {
  "kernelspec": {
   "display_name": "Python 3",
   "language": "python",
   "name": "python3"
  },
  "language_info": {
   "codemirror_mode": {
    "name": "ipython",
    "version": 3
   },
   "file_extension": ".py",
   "mimetype": "text/x-python",
   "name": "python",
   "nbconvert_exporter": "python",
   "pygments_lexer": "ipython3",
   "version": "3.6.1"
  }
 },
 "nbformat": 4,
 "nbformat_minor": 2
}
